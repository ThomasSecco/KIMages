{
 "cells": [
  {
   "cell_type": "code",
   "execution_count": 28,
   "metadata": {},
   "outputs": [],
   "source": [
    "import numpy as np\n",
    "from sklearn.metrics.pairwise import cosine_similarity\n"
   ]
  },
  {
   "cell_type": "code",
   "execution_count": 29,
   "metadata": {},
   "outputs": [],
   "source": [
    "def load_embeddings(file_path):\n",
    "    embeddings_index = {}\n",
    "    with open(file_path, encoding='utf-8') as f:\n",
    "        line_number = 0\n",
    "        for line in f:\n",
    "            line_number += 1\n",
    "            try:\n",
    "                values = line.split()\n",
    "                word = values[0]\n",
    "                vector = np.asarray(values[1:], dtype='float32')\n",
    "                embeddings_index[word] = vector\n",
    "            except ValueError as e:\n",
    "                pass\n",
    "    return embeddings_index\n",
    "\n",
    "glove_embeddings = load_embeddings('vector.txt')\n",
    "\n",
    "\n",
    "def meaning_similarity(word1, word2, embeddings):\n",
    "    \"\"\"\n",
    "    Calculate the meaning similarity between two words using pre-trained word embeddings.\n",
    "    Returns a value between 0 and 1, where 1 means the words have identical meanings.\n",
    "    \"\"\"\n",
    "    if word1 not in embeddings or word2 not in embeddings:\n",
    "        return 0  # If either word is not in the embeddings, return 0 similarity\n",
    "\n",
    "    embedding1 = embeddings[word1].reshape(1, -1)\n",
    "    embedding2 = embeddings[word2].reshape(1, -1)\n",
    "    similarity_score = cosine_similarity(embedding1, embedding2)[0][0]\n",
    "\n",
    "    return similarity_score\n"
   ]
  },
  {
   "cell_type": "code",
   "execution_count": 26,
   "metadata": {},
   "outputs": [
    {
     "name": "stdout",
     "output_type": "stream",
     "text": [
      "Similarity between 'king' and 'queen': 0.73\n"
     ]
    }
   ],
   "source": [
    "word1 = \"king\"\n",
    "word2 = \"queen\"\n",
    "print(\"Similarity between '{}' and '{}': {:.2f}\".format(word1, word2, meaning_similarity(word1, word2, glove_embeddings)))"
   ]
  }
 ],
 "metadata": {
  "kernelspec": {
   "display_name": "intern",
   "language": "python",
   "name": "python3"
  },
  "language_info": {
   "codemirror_mode": {
    "name": "ipython",
    "version": 3
   },
   "file_extension": ".py",
   "mimetype": "text/x-python",
   "name": "python",
   "nbconvert_exporter": "python",
   "pygments_lexer": "ipython3",
   "version": "3.11.5"
  },
  "orig_nbformat": 4
 },
 "nbformat": 4,
 "nbformat_minor": 2
}
