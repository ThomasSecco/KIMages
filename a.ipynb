{
 "cells": [
  {
   "cell_type": "code",
   "execution_count": null,
   "metadata": {},
   "outputs": [],
   "source": [
    "import numpy as np\n",
    "import matplotlib.pyplot as plt\n",
    "from PIL import Image"
   ]
  },
  {
   "cell_type": "code",
   "execution_count": null,
   "metadata": {},
   "outputs": [],
   "source": [
    "#from fu import meaning_similarity,load_embeddings"
   ]
  },
  {
   "cell_type": "code",
   "execution_count": null,
   "metadata": {},
   "outputs": [],
   "source": [
    "from vect import simi"
   ]
  },
  {
   "cell_type": "code",
   "execution_count": null,
   "metadata": {},
   "outputs": [],
   "source": [
    "from models import captionning,classification,yolo,detection"
   ]
  },
  {
   "cell_type": "code",
   "execution_count": null,
   "metadata": {},
   "outputs": [],
   "source": [
    "#embeddings=load_embeddings('vector.txt')"
   ]
  },
  {
   "cell_type": "code",
   "execution_count": null,
   "metadata": {},
   "outputs": [],
   "source": [
    "def results(image):\n",
    "    caption=captionning.show_n_generate(image)\n",
    "    class1=classification.eval(image)\n",
    "    class1=[tup[0] for tup in class1]\n",
    "    class1=[x.replace('_',' ') for x in class1]\n",
    "    class2=detection.get_prediction(image,0.5)[-1]\n",
    "    class2=[x.replace('_',' ') for x in class2]\n",
    "    class3=yolo.yolo(image)\n",
    "    class3=[tup[0] for tup in class3]\n",
    "    class3=[x.replace('_',' ') for x in class3]\n",
    "    return caption,class1,class2,class3"
   ]
  },
  {
   "cell_type": "code",
   "execution_count": null,
   "metadata": {},
   "outputs": [],
   "source": [
    "def compare_lists(list1, list2, list3):\n",
    "    found_in_all = []\n",
    "    found_in_two = []\n",
    "    found_in_one = []\n",
    "\n",
    "    for class1 in list1:\n",
    "        found = False\n",
    "        for class2 in list2:\n",
    "            for class3 in list3:\n",
    "                sim_score_1_2 = simi(class1, class2)\n",
    "                sim_score_1_3 = simi(class1, class3)\n",
    "                sim_score_2_3 = simi(class2, class3)\n",
    "\n",
    "                if sim_score_1_2 > 0.8 and sim_score_1_3 > 0.8 and sim_score_2_3 > 0.8:\n",
    "                    found_in_all.append(class1)\n",
    "                    found = True\n",
    "                    break\n",
    "                elif (sim_score_1_2 > 0.8 and sim_score_1_3 > 0.8) or (sim_score_1_2 > 0.8 and sim_score_2_3 > 0.8) or (sim_score_1_3 > 0.8 and sim_score_2_3 > 0.8):\n",
    "                    found_in_two.append(class1)\n",
    "                    found = True\n",
    "                    break\n",
    "\n",
    "            if found:\n",
    "                break\n",
    "\n",
    "        if not found:\n",
    "            found_in_one.append(class1)\n",
    "\n",
    "    # Add classes from list2 and list3 not already categorized\n",
    "    for class2 in list2:\n",
    "        if class2 not in found_in_all and class2 not in found_in_two:\n",
    "            found_in_one.append(class2)\n",
    "\n",
    "    for class3 in list3:\n",
    "        if class3 not in found_in_all and class3 not in found_in_two:\n",
    "            found_in_one.append(class3)\n",
    "\n",
    "    return found_in_all, found_in_two, found_in_one\n"
   ]
  },
  {
   "cell_type": "code",
   "execution_count": null,
   "metadata": {},
   "outputs": [],
   "source": [
    "def final(found_in_all, found_in_two, found_in_one, caption):\n",
    "    cap=caption.split()\n",
    "    p1,p2,p3=0,0,0\n",
    "    if found_in_all:\n",
    "        for class_name in found_in_all:\n",
    "            max_sim = 0\n",
    "            for word in cap:\n",
    "                sim = simi(class_name, word)\n",
    "                if sim > max_sim:\n",
    "                    max_sim = sim\n",
    "            p1 += max_sim/len(found_in_all)\n",
    "\n",
    "    if found_in_two:\n",
    "        for class_name in found_in_two:\n",
    "            max_sim = 0\n",
    "            for word in cap:\n",
    "                sim = simi(class_name, word)\n",
    "                if sim > max_sim:\n",
    "                    max_sim = sim\n",
    "            p2 += max_sim/len(found_in_two)\n",
    "\n",
    "    if found_in_one:\n",
    "        for class_name in found_in_one:\n",
    "            max_sim = 0\n",
    "            for word in cap:\n",
    "                sim = simi(class_name, word)\n",
    "                if sim > max_sim:\n",
    "                    max_sim = sim\n",
    "            p3 += max_sim/len(found_in_one)\n",
    "    \n",
    "    if p1==0:\n",
    "        if p2==0:\n",
    "            total_score=p3\n",
    "        elif p3==0:\n",
    "            total_score=p2\n",
    "\n",
    "    return caption,100*total_score\n",
    "\n",
    "\n"
   ]
  },
  {
   "cell_type": "code",
   "execution_count": null,
   "metadata": {},
   "outputs": [],
   "source": [
    "imag='c:/Stage/Images/16.jpg'\n",
    "image = Image.open(imag)\n",
    "display(image)"
   ]
  },
  {
   "cell_type": "code",
   "execution_count": null,
   "metadata": {},
   "outputs": [],
   "source": [
    "res=results(imag)\n",
    "c=compare_lists(res[1],res[2],res[3])\n",
    "final(c[0],c[1],c[2],res[0])"
   ]
  },
  {
   "cell_type": "code",
   "execution_count": null,
   "metadata": {},
   "outputs": [],
   "source": [
    "res"
   ]
  },
  {
   "cell_type": "code",
   "execution_count": null,
   "metadata": {},
   "outputs": [],
   "source": [
    "simi('mountain bike','bicycle')"
   ]
  },
  {
   "cell_type": "code",
   "execution_count": null,
   "metadata": {},
   "outputs": [],
   "source": [
    "for i in range (53,82):\n",
    "    imag=f'c:/Stage/Images/{i}.jpg'\n",
    "    image = Image.open(imag)\n",
    "    display(image)\n",
    "    res=results(imag)\n",
    "    c=compare_lists(res[1],res[2],res[3])\n",
    "    print(final(c[0],c[1],c[2],res[0]))"
   ]
  }
 ],
 "metadata": {
  "kernelspec": {
   "display_name": "intern",
   "language": "python",
   "name": "python3"
  },
  "language_info": {
   "codemirror_mode": {
    "name": "ipython",
    "version": 3
   },
   "file_extension": ".py",
   "mimetype": "text/x-python",
   "name": "python",
   "nbconvert_exporter": "python",
   "pygments_lexer": "ipython3",
   "version": "3.12.1"
  },
  "orig_nbformat": 4
 },
 "nbformat": 4,
 "nbformat_minor": 2
}
